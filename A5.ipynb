{
 "cells": [
  {
   "cell_type": "code",
   "execution_count": 1,
   "metadata": {},
   "outputs": [],
   "source": [
    "import numpy as np\n",
    "import matplotlib.pyplot as plt"
   ]
  },
  {
   "cell_type": "code",
   "execution_count": 8,
   "metadata": {},
   "outputs": [],
   "source": [
    "daysInYear = 365.24\n",
    "T = np.ones(5)\n",
    "a = np.ones(5)\n",
    "# years\n",
    "T[0] = 8.6312 / daysInYear\n",
    "T[1] = 25.637 / daysInYear\n",
    "T[2] = 109.5 / daysInYear\n",
    "T[3] = 349 / daysInYear\n",
    "T[4] = 604 / daysInYear\n",
    "# AU\n",
    "a[0] = 0.06\n",
    "a[1] = 0.124\n",
    "a[2] = 0.326\n",
    "a[3] = 0.7\n",
    "a[4] = 1.021"
   ]
  },
  {
   "cell_type": "code",
   "execution_count": 11,
   "metadata": {},
   "outputs": [
    {
     "name": "stdout",
     "output_type": "stream",
     "text": [
      "2.585424981357147\n",
      "2.5841200341565633\n",
      "2.594291483322758\n",
      "2.661951053595429\n",
      "2.5694488864100453\n"
     ]
    }
   ],
   "source": [
    "for i in range(5):\n",
    "    print((T[i]**2)/(a[i]**3))"
   ]
  }
 ],
 "metadata": {
  "kernelspec": {
   "display_name": "Python 3",
   "language": "python",
   "name": "python3"
  },
  "language_info": {
   "codemirror_mode": {
    "name": "ipython",
    "version": 3
   },
   "file_extension": ".py",
   "mimetype": "text/x-python",
   "name": "python",
   "nbconvert_exporter": "python",
   "pygments_lexer": "ipython3",
   "version": "3.8.5"
  }
 },
 "nbformat": 4,
 "nbformat_minor": 4
}
